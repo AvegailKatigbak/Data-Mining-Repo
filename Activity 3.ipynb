{
 "cells": [
  {
   "cell_type": "markdown",
   "id": "ee9ff1fb-3bc7-42bf-9b56-438f595253e2",
   "metadata": {},
   "source": [
    "<h1>Data Analytics Project</h1>"
   ]
  },
  {
   "cell_type": "markdown",
   "id": "22599ba2-23a2-410d-8f2d-11dab89f66f7",
   "metadata": {},
   "source": [
    "<h2> United Kingdom Road Accident Data Analysis</h2>\n",
    "<h3> Inclusive years : 2019 - 2022</h3>"
   ]
  },
  {
   "cell_type": "code",
   "execution_count": 1,
   "id": "4f140905-271e-4d74-b731-beed6d350297",
   "metadata": {},
   "outputs": [],
   "source": [
    "import numpy as np\n",
    "import pandas as pd\n",
    "import matplotlib.pyplot as plt\n",
    "import seaborn as sns\n",
    "from scipy.stats import f_oneway\n",
    "import warnings\n",
    "warnings.filterwarnings('ignore')"
   ]
  },
  {
   "cell_type": "code",
   "execution_count": 2,
   "id": "a65eb4af-69c3-43c8-9f17-1a653e5ab38a",
   "metadata": {},
   "outputs": [],
   "source": [
    "accident = pd.read_csv('dataset\\\\accident_data.csv')"
   ]
  },
  {
   "cell_type": "code",
   "execution_count": 3,
   "id": "b204d329-1c6e-47f0-8366-2f6d793370ea",
   "metadata": {},
   "outputs": [
    {
     "data": {
      "text/html": [
       "<div>\n",
       "<style scoped>\n",
       "    .dataframe tbody tr th:only-of-type {\n",
       "        vertical-align: middle;\n",
       "    }\n",
       "\n",
       "    .dataframe tbody tr th {\n",
       "        vertical-align: top;\n",
       "    }\n",
       "\n",
       "    .dataframe thead th {\n",
       "        text-align: right;\n",
       "    }\n",
       "</style>\n",
       "<table border=\"1\" class=\"dataframe\">\n",
       "  <thead>\n",
       "    <tr style=\"text-align: right;\">\n",
       "      <th></th>\n",
       "      <th>Index</th>\n",
       "      <th>Accident_Severity</th>\n",
       "      <th>Accident Date</th>\n",
       "      <th>Latitude</th>\n",
       "      <th>Light_Conditions</th>\n",
       "      <th>District Area</th>\n",
       "      <th>Longitude</th>\n",
       "      <th>Number_of_Casualties</th>\n",
       "      <th>Number_of_Vehicles</th>\n",
       "      <th>Road_Surface_Conditions</th>\n",
       "      <th>Road_Type</th>\n",
       "      <th>Urban_or_Rural_Area</th>\n",
       "      <th>Weather_Conditions</th>\n",
       "      <th>Vehicle_Type</th>\n",
       "    </tr>\n",
       "  </thead>\n",
       "  <tbody>\n",
       "    <tr>\n",
       "      <th>0</th>\n",
       "      <td>200701BS64157</td>\n",
       "      <td>Serious</td>\n",
       "      <td>05/06/2019</td>\n",
       "      <td>51.506187</td>\n",
       "      <td>Darkness - lights lit</td>\n",
       "      <td>Kensington and Chelsea</td>\n",
       "      <td>-0.209082</td>\n",
       "      <td>1</td>\n",
       "      <td>2</td>\n",
       "      <td>Dry</td>\n",
       "      <td>Single carriageway</td>\n",
       "      <td>Urban</td>\n",
       "      <td>Fine no high winds</td>\n",
       "      <td>Car</td>\n",
       "    </tr>\n",
       "    <tr>\n",
       "      <th>1</th>\n",
       "      <td>200701BS65737</td>\n",
       "      <td>Serious</td>\n",
       "      <td>02/07/2019</td>\n",
       "      <td>51.495029</td>\n",
       "      <td>Daylight</td>\n",
       "      <td>Kensington and Chelsea</td>\n",
       "      <td>-0.173647</td>\n",
       "      <td>1</td>\n",
       "      <td>2</td>\n",
       "      <td>Wet or damp</td>\n",
       "      <td>Single carriageway</td>\n",
       "      <td>Urban</td>\n",
       "      <td>Raining no high winds</td>\n",
       "      <td>Car</td>\n",
       "    </tr>\n",
       "    <tr>\n",
       "      <th>2</th>\n",
       "      <td>200701BS66127</td>\n",
       "      <td>Serious</td>\n",
       "      <td>26/08/2019</td>\n",
       "      <td>51.517715</td>\n",
       "      <td>Darkness - lighting unknown</td>\n",
       "      <td>Kensington and Chelsea</td>\n",
       "      <td>-0.210215</td>\n",
       "      <td>1</td>\n",
       "      <td>3</td>\n",
       "      <td>Dry</td>\n",
       "      <td>NaN</td>\n",
       "      <td>Urban</td>\n",
       "      <td>NaN</td>\n",
       "      <td>Taxi/Private hire car</td>\n",
       "    </tr>\n",
       "    <tr>\n",
       "      <th>3</th>\n",
       "      <td>200701BS66128</td>\n",
       "      <td>Serious</td>\n",
       "      <td>16/08/2019</td>\n",
       "      <td>51.495478</td>\n",
       "      <td>Daylight</td>\n",
       "      <td>Kensington and Chelsea</td>\n",
       "      <td>-0.202731</td>\n",
       "      <td>1</td>\n",
       "      <td>4</td>\n",
       "      <td>Dry</td>\n",
       "      <td>Single carriageway</td>\n",
       "      <td>Urban</td>\n",
       "      <td>Fine no high winds</td>\n",
       "      <td>Bus or coach (17 or more pass seats)</td>\n",
       "    </tr>\n",
       "    <tr>\n",
       "      <th>4</th>\n",
       "      <td>200701BS66837</td>\n",
       "      <td>Slight</td>\n",
       "      <td>03/09/2019</td>\n",
       "      <td>51.488576</td>\n",
       "      <td>Darkness - lights lit</td>\n",
       "      <td>Kensington and Chelsea</td>\n",
       "      <td>-0.192487</td>\n",
       "      <td>1</td>\n",
       "      <td>2</td>\n",
       "      <td>Dry</td>\n",
       "      <td>NaN</td>\n",
       "      <td>Urban</td>\n",
       "      <td>NaN</td>\n",
       "      <td>Other vehicle</td>\n",
       "    </tr>\n",
       "    <tr>\n",
       "      <th>...</th>\n",
       "      <td>...</td>\n",
       "      <td>...</td>\n",
       "      <td>...</td>\n",
       "      <td>...</td>\n",
       "      <td>...</td>\n",
       "      <td>...</td>\n",
       "      <td>...</td>\n",
       "      <td>...</td>\n",
       "      <td>...</td>\n",
       "      <td>...</td>\n",
       "      <td>...</td>\n",
       "      <td>...</td>\n",
       "      <td>...</td>\n",
       "      <td>...</td>\n",
       "    </tr>\n",
       "    <tr>\n",
       "      <th>660674</th>\n",
       "      <td>201091NM01760</td>\n",
       "      <td>Slight</td>\n",
       "      <td>18/02/2022</td>\n",
       "      <td>57.374005</td>\n",
       "      <td>Daylight</td>\n",
       "      <td>Highland</td>\n",
       "      <td>-3.467828</td>\n",
       "      <td>2</td>\n",
       "      <td>1</td>\n",
       "      <td>Dry</td>\n",
       "      <td>Single carriageway</td>\n",
       "      <td>Rural</td>\n",
       "      <td>Fine no high winds</td>\n",
       "      <td>Car</td>\n",
       "    </tr>\n",
       "    <tr>\n",
       "      <th>660675</th>\n",
       "      <td>201091NM01881</td>\n",
       "      <td>Slight</td>\n",
       "      <td>21/02/2022</td>\n",
       "      <td>57.232273</td>\n",
       "      <td>Darkness - no lighting</td>\n",
       "      <td>Highland</td>\n",
       "      <td>-3.809281</td>\n",
       "      <td>1</td>\n",
       "      <td>1</td>\n",
       "      <td>Frost or ice</td>\n",
       "      <td>Single carriageway</td>\n",
       "      <td>Rural</td>\n",
       "      <td>Fine no high winds</td>\n",
       "      <td>Car</td>\n",
       "    </tr>\n",
       "    <tr>\n",
       "      <th>660676</th>\n",
       "      <td>201091NM01935</td>\n",
       "      <td>Slight</td>\n",
       "      <td>23/02/2022</td>\n",
       "      <td>57.585044</td>\n",
       "      <td>Daylight</td>\n",
       "      <td>Highland</td>\n",
       "      <td>-3.862727</td>\n",
       "      <td>1</td>\n",
       "      <td>3</td>\n",
       "      <td>Frost or ice</td>\n",
       "      <td>Single carriageway</td>\n",
       "      <td>Rural</td>\n",
       "      <td>Fine no high winds</td>\n",
       "      <td>Car</td>\n",
       "    </tr>\n",
       "    <tr>\n",
       "      <th>660677</th>\n",
       "      <td>201091NM01964</td>\n",
       "      <td>Serious</td>\n",
       "      <td>23/02/2022</td>\n",
       "      <td>57.214898</td>\n",
       "      <td>Darkness - no lighting</td>\n",
       "      <td>Highland</td>\n",
       "      <td>-3.823997</td>\n",
       "      <td>1</td>\n",
       "      <td>2</td>\n",
       "      <td>Wet or damp</td>\n",
       "      <td>Single carriageway</td>\n",
       "      <td>Rural</td>\n",
       "      <td>Fine no high winds</td>\n",
       "      <td>Motorcycle over 500cc</td>\n",
       "    </tr>\n",
       "    <tr>\n",
       "      <th>660678</th>\n",
       "      <td>201091NM02142</td>\n",
       "      <td>Serious</td>\n",
       "      <td>28/02/2022</td>\n",
       "      <td>57.575210</td>\n",
       "      <td>Daylight</td>\n",
       "      <td>Highland</td>\n",
       "      <td>-3.895673</td>\n",
       "      <td>1</td>\n",
       "      <td>1</td>\n",
       "      <td>Wet or damp</td>\n",
       "      <td>Dual carriageway</td>\n",
       "      <td>Rural</td>\n",
       "      <td>Snowing no high winds</td>\n",
       "      <td>Car</td>\n",
       "    </tr>\n",
       "  </tbody>\n",
       "</table>\n",
       "<p>660679 rows × 14 columns</p>\n",
       "</div>"
      ],
      "text/plain": [
       "                Index Accident_Severity Accident Date   Latitude  \\\n",
       "0       200701BS64157           Serious    05/06/2019  51.506187   \n",
       "1       200701BS65737           Serious    02/07/2019  51.495029   \n",
       "2       200701BS66127           Serious    26/08/2019  51.517715   \n",
       "3       200701BS66128           Serious    16/08/2019  51.495478   \n",
       "4       200701BS66837            Slight    03/09/2019  51.488576   \n",
       "...               ...               ...           ...        ...   \n",
       "660674  201091NM01760            Slight    18/02/2022  57.374005   \n",
       "660675  201091NM01881            Slight    21/02/2022  57.232273   \n",
       "660676  201091NM01935            Slight    23/02/2022  57.585044   \n",
       "660677  201091NM01964           Serious    23/02/2022  57.214898   \n",
       "660678  201091NM02142           Serious    28/02/2022  57.575210   \n",
       "\n",
       "                   Light_Conditions           District Area  Longitude  \\\n",
       "0             Darkness - lights lit  Kensington and Chelsea  -0.209082   \n",
       "1                          Daylight  Kensington and Chelsea  -0.173647   \n",
       "2       Darkness - lighting unknown  Kensington and Chelsea  -0.210215   \n",
       "3                          Daylight  Kensington and Chelsea  -0.202731   \n",
       "4             Darkness - lights lit  Kensington and Chelsea  -0.192487   \n",
       "...                             ...                     ...        ...   \n",
       "660674                     Daylight                Highland  -3.467828   \n",
       "660675       Darkness - no lighting                Highland  -3.809281   \n",
       "660676                     Daylight                Highland  -3.862727   \n",
       "660677       Darkness - no lighting                Highland  -3.823997   \n",
       "660678                     Daylight                Highland  -3.895673   \n",
       "\n",
       "        Number_of_Casualties  Number_of_Vehicles Road_Surface_Conditions  \\\n",
       "0                          1                   2                     Dry   \n",
       "1                          1                   2             Wet or damp   \n",
       "2                          1                   3                     Dry   \n",
       "3                          1                   4                     Dry   \n",
       "4                          1                   2                     Dry   \n",
       "...                      ...                 ...                     ...   \n",
       "660674                     2                   1                     Dry   \n",
       "660675                     1                   1            Frost or ice   \n",
       "660676                     1                   3            Frost or ice   \n",
       "660677                     1                   2             Wet or damp   \n",
       "660678                     1                   1             Wet or damp   \n",
       "\n",
       "                 Road_Type Urban_or_Rural_Area     Weather_Conditions  \\\n",
       "0       Single carriageway               Urban     Fine no high winds   \n",
       "1       Single carriageway               Urban  Raining no high winds   \n",
       "2                      NaN               Urban                    NaN   \n",
       "3       Single carriageway               Urban     Fine no high winds   \n",
       "4                      NaN               Urban                    NaN   \n",
       "...                    ...                 ...                    ...   \n",
       "660674  Single carriageway               Rural     Fine no high winds   \n",
       "660675  Single carriageway               Rural     Fine no high winds   \n",
       "660676  Single carriageway               Rural     Fine no high winds   \n",
       "660677  Single carriageway               Rural     Fine no high winds   \n",
       "660678    Dual carriageway               Rural  Snowing no high winds   \n",
       "\n",
       "                                Vehicle_Type  \n",
       "0                                        Car  \n",
       "1                                        Car  \n",
       "2                      Taxi/Private hire car  \n",
       "3       Bus or coach (17 or more pass seats)  \n",
       "4                              Other vehicle  \n",
       "...                                      ...  \n",
       "660674                                   Car  \n",
       "660675                                   Car  \n",
       "660676                                   Car  \n",
       "660677                 Motorcycle over 500cc  \n",
       "660678                                   Car  \n",
       "\n",
       "[660679 rows x 14 columns]"
      ]
     },
     "execution_count": 3,
     "metadata": {},
     "output_type": "execute_result"
    }
   ],
   "source": [
    "accident"
   ]
  },
  {
   "cell_type": "markdown",
   "id": "85cafde1-4512-4bd6-ade0-bf1d403c93b2",
   "metadata": {},
   "source": [
    "<h1> Data Preparation </h1>"
   ]
  },
  {
   "cell_type": "code",
   "execution_count": 4,
   "id": "2f7d797b-0537-4aea-92fa-757e25e3afa6",
   "metadata": {},
   "outputs": [
    {
     "name": "stdout",
     "output_type": "stream",
     "text": [
      "<class 'pandas.core.frame.DataFrame'>\n",
      "RangeIndex: 660679 entries, 0 to 660678\n",
      "Data columns (total 14 columns):\n",
      " #   Column                   Non-Null Count   Dtype  \n",
      "---  ------                   --------------   -----  \n",
      " 0   Index                    660679 non-null  object \n",
      " 1   Accident_Severity        660679 non-null  object \n",
      " 2   Accident Date            660679 non-null  object \n",
      " 3   Latitude                 660654 non-null  float64\n",
      " 4   Light_Conditions         660679 non-null  object \n",
      " 5   District Area            660679 non-null  object \n",
      " 6   Longitude                660653 non-null  float64\n",
      " 7   Number_of_Casualties     660679 non-null  int64  \n",
      " 8   Number_of_Vehicles       660679 non-null  int64  \n",
      " 9   Road_Surface_Conditions  659953 non-null  object \n",
      " 10  Road_Type                656159 non-null  object \n",
      " 11  Urban_or_Rural_Area      660664 non-null  object \n",
      " 12  Weather_Conditions       646551 non-null  object \n",
      " 13  Vehicle_Type             660679 non-null  object \n",
      "dtypes: float64(2), int64(2), object(10)\n",
      "memory usage: 70.6+ MB\n"
     ]
    }
   ],
   "source": [
    "accident.info()"
   ]
  },
  {
   "cell_type": "code",
   "execution_count": 5,
   "id": "20f5ea5b-a1be-4aad-b439-120c71aa2f8e",
   "metadata": {},
   "outputs": [
    {
     "data": {
      "text/plain": [
       "Index                       object\n",
       "Accident_Severity           object\n",
       "Accident Date               object\n",
       "Latitude                   float64\n",
       "Light_Conditions            object\n",
       "District Area               object\n",
       "Longitude                  float64\n",
       "Number_of_Casualties         int64\n",
       "Number_of_Vehicles           int64\n",
       "Road_Surface_Conditions     object\n",
       "Road_Type                   object\n",
       "Urban_or_Rural_Area         object\n",
       "Weather_Conditions          object\n",
       "Vehicle_Type                object\n",
       "dtype: object"
      ]
     },
     "execution_count": 5,
     "metadata": {},
     "output_type": "execute_result"
    }
   ],
   "source": [
    "accident.dtypes"
   ]
  },
  {
   "cell_type": "code",
   "execution_count": 6,
   "id": "34b0b8bf-ae0b-4a0e-b58b-3d76f6b0b865",
   "metadata": {},
   "outputs": [],
   "source": [
    "#accident['Accident_Severity'] = accident['Accident_Severity'].astype('category')"
   ]
  },
  {
   "cell_type": "code",
   "execution_count": 7,
   "id": "e352d3ad-7e4c-4c9c-a156-87679a04d911",
   "metadata": {},
   "outputs": [
    {
     "data": {
      "text/plain": [
       "Accident_Severity\n",
       "Slight     563801\n",
       "Serious     88217\n",
       "Fatal        8661\n",
       "Name: count, dtype: int64"
      ]
     },
     "execution_count": 7,
     "metadata": {},
     "output_type": "execute_result"
    }
   ],
   "source": [
    "accident['Accident_Severity'].value_counts ()"
   ]
  },
  {
   "cell_type": "markdown",
   "id": "038554e8-d189-4583-8b45-87cb2a2a4306",
   "metadata": {},
   "source": [
    "<h1>Converting Object to Date Time Data Type</h1>"
   ]
  },
  {
   "cell_type": "code",
   "execution_count": 8,
   "id": "1c27539e-49eb-4efd-b380-d5333a3fb306",
   "metadata": {},
   "outputs": [],
   "source": [
    "accident['Accident Date'] = pd.to_datetime(accident['Accident Date'], dayfirst = True, errors = 'coerce')"
   ]
  },
  {
   "cell_type": "code",
   "execution_count": 9,
   "id": "2363a22d-399b-4a50-872c-622ea35844b9",
   "metadata": {},
   "outputs": [
    {
     "data": {
      "text/plain": [
       "0        2019-06-05\n",
       "1        2019-07-02\n",
       "2        2019-08-26\n",
       "3        2019-08-16\n",
       "4        2019-09-03\n",
       "            ...    \n",
       "660674   2022-02-18\n",
       "660675   2022-02-21\n",
       "660676   2022-02-23\n",
       "660677   2022-02-23\n",
       "660678   2022-02-28\n",
       "Name: Accident Date, Length: 660679, dtype: datetime64[ns]"
      ]
     },
     "execution_count": 9,
     "metadata": {},
     "output_type": "execute_result"
    }
   ],
   "source": [
    "accident['Accident Date']"
   ]
  },
  {
   "cell_type": "markdown",
   "id": "f2d1e2c4-59d9-4e0c-8bae-3e53ff441dd7",
   "metadata": {},
   "source": [
    "<h1>CLEARING NULL VALUES</h1>"
   ]
  },
  {
   "cell_type": "code",
   "execution_count": 10,
   "id": "68fbcec5-0e40-4c15-896d-a103ad9644e3",
   "metadata": {},
   "outputs": [
    {
     "data": {
      "text/plain": [
       "Index                          0\n",
       "Accident_Severity              0\n",
       "Accident Date                  0\n",
       "Latitude                      25\n",
       "Light_Conditions               0\n",
       "District Area                  0\n",
       "Longitude                     26\n",
       "Number_of_Casualties           0\n",
       "Number_of_Vehicles             0\n",
       "Road_Surface_Conditions      726\n",
       "Road_Type                   4520\n",
       "Urban_or_Rural_Area           15\n",
       "Weather_Conditions         14128\n",
       "Vehicle_Type                   0\n",
       "dtype: int64"
      ]
     },
     "execution_count": 10,
     "metadata": {},
     "output_type": "execute_result"
    }
   ],
   "source": [
    "accident.isnull().sum()"
   ]
  },
  {
   "cell_type": "code",
   "execution_count": 11,
   "id": "64177b6a-bb23-458a-b713-8f2fc300b9ca",
   "metadata": {},
   "outputs": [],
   "source": [
    "accident['Latitude'] = accident['Latitude'].fillna(accident['Latitude'].mode()[0])\n",
    "accident['Longitude'] = accident['Longitude'].fillna(accident['Longitude'].mode()[0])\n",
    "accident['Road_Surface_Conditions'] = accident['Road_Surface_Conditions'].fillna(accident['Road_Surface_Conditions'].mode()[0])\n",
    "accident['Road_Type'] = accident['Road_Type'].fillna(accident['Road_Type'].mode()[0])\n",
    "accident['Urban_or_Rural_Area'] = accident['Urban_or_Rural_Area'].fillna(accident['Urban_or_Rural_Area'].mode()[0])\n",
    "accident['Weather_Conditions'] = accident['Weather_Conditions'].fillna(accident['Weather_Conditions'].mode()[0])"
   ]
  },
  {
   "cell_type": "code",
   "execution_count": 12,
   "id": "02b77777-d247-4328-b92f-0c359b43c04f",
   "metadata": {},
   "outputs": [
    {
     "data": {
      "text/plain": [
       "Index                      0\n",
       "Accident_Severity          0\n",
       "Accident Date              0\n",
       "Latitude                   0\n",
       "Light_Conditions           0\n",
       "District Area              0\n",
       "Longitude                  0\n",
       "Number_of_Casualties       0\n",
       "Number_of_Vehicles         0\n",
       "Road_Surface_Conditions    0\n",
       "Road_Type                  0\n",
       "Urban_or_Rural_Area        0\n",
       "Weather_Conditions         0\n",
       "Vehicle_Type               0\n",
       "dtype: int64"
      ]
     },
     "execution_count": 12,
     "metadata": {},
     "output_type": "execute_result"
    }
   ],
   "source": [
    "accident.isnull().sum()"
   ]
  },
  {
   "cell_type": "markdown",
   "id": "55671021-8e85-4437-8c15-0aa1e67b7f2c",
   "metadata": {},
   "source": [
    "<h1>Extracting date information using pandas date time</h1>"
   ]
  },
  {
   "cell_type": "code",
   "execution_count": 13,
   "id": "caf0824f-6f9d-4a46-af27-22bd5ba4f7ad",
   "metadata": {},
   "outputs": [],
   "source": [
    "accident['Year'] = accident['Accident Date'].dt.year\n",
    "accident['Month'] = accident['Accident Date'].dt.month\n",
    "accident['Day'] = accident['Accident Date'].dt.day\n",
    "accident['DayOfWeek'] = accident['Accident Date'].dt.dayofweek"
   ]
  },
  {
   "cell_type": "markdown",
   "id": "379b01d6-8285-48fd-82a4-e32c7b222a44",
   "metadata": {},
   "source": [
    "<h1>ADJUSTING DATA TYPES</h1>"
   ]
  },
  {
   "cell_type": "code",
   "execution_count": 14,
   "id": "847e0d8b-b7bc-4ca0-bd85-5bba35018296",
   "metadata": {},
   "outputs": [
    {
     "data": {
      "text/plain": [
       "Index                              object\n",
       "Accident_Severity                  object\n",
       "Accident Date              datetime64[ns]\n",
       "Latitude                          float64\n",
       "Light_Conditions                   object\n",
       "District Area                      object\n",
       "Longitude                         float64\n",
       "Number_of_Casualties                int64\n",
       "Number_of_Vehicles                  int64\n",
       "Road_Surface_Conditions            object\n",
       "Road_Type                          object\n",
       "Urban_or_Rural_Area                object\n",
       "Weather_Conditions                 object\n",
       "Vehicle_Type                       object\n",
       "Year                                int32\n",
       "Month                               int32\n",
       "Day                                 int32\n",
       "DayOfWeek                           int32\n",
       "dtype: object"
      ]
     },
     "execution_count": 14,
     "metadata": {},
     "output_type": "execute_result"
    }
   ],
   "source": [
    "accident.dtypes"
   ]
  },
  {
   "cell_type": "code",
   "execution_count": 15,
   "id": "c4d68055-b693-475c-b7f9-cf369da900e3",
   "metadata": {},
   "outputs": [],
   "source": [
    " accident['Accident_Severity'] = accident['Accident_Severity'].astype('category' )\n",
    " accident['Latitude'] = accident['Latitude'].astype('category' )\n",
    " accident['Longitude'] = accident['Longitude'].astype('category' )\n",
    " accident['Light_Conditions'] = accident['Light_Conditions'].astype('category' )\n",
    " accident['District Area'] = accident['District Area'].astype('category' )\n",
    " accident['Road_Surface_Conditions'] = accident['Road_Surface_Conditions'].astype('category' )\n",
    " accident['Road_Type'] = accident['Road_Type'].astype('category' )\n",
    " accident['Urban_or_Rural_Area'] = accident['Urban_or_Rural_Area'].astype('category' )\n",
    " accident['Weather_Conditions'] = accident['Weather_Conditions'].astype('category' )\n",
    " accident['Vehicle_Type'] = accident['Vehicle_Type'].astype('category' )"
   ]
  },
  {
   "cell_type": "code",
   "execution_count": 16,
   "id": "704f47da-74c6-4b78-93cf-acb002cf1057",
   "metadata": {},
   "outputs": [
    {
     "data": {
      "text/plain": [
       "Index                              object\n",
       "Accident_Severity                category\n",
       "Accident Date              datetime64[ns]\n",
       "Latitude                         category\n",
       "Light_Conditions                 category\n",
       "District Area                    category\n",
       "Longitude                        category\n",
       "Number_of_Casualties                int64\n",
       "Number_of_Vehicles                  int64\n",
       "Road_Surface_Conditions          category\n",
       "Road_Type                        category\n",
       "Urban_or_Rural_Area              category\n",
       "Weather_Conditions               category\n",
       "Vehicle_Type                     category\n",
       "Year                                int32\n",
       "Month                               int32\n",
       "Day                                 int32\n",
       "DayOfWeek                           int32\n",
       "dtype: object"
      ]
     },
     "execution_count": 16,
     "metadata": {},
     "output_type": "execute_result"
    }
   ],
   "source": [
    "accident.dtypes"
   ]
  },
  {
   "cell_type": "code",
   "execution_count": 17,
   "id": "8119119d-b14a-4da1-9205-576b4cdccdfd",
   "metadata": {},
   "outputs": [
    {
     "data": {
      "text/html": [
       "<div>\n",
       "<style scoped>\n",
       "    .dataframe tbody tr th:only-of-type {\n",
       "        vertical-align: middle;\n",
       "    }\n",
       "\n",
       "    .dataframe tbody tr th {\n",
       "        vertical-align: top;\n",
       "    }\n",
       "\n",
       "    .dataframe thead th {\n",
       "        text-align: right;\n",
       "    }\n",
       "</style>\n",
       "<table border=\"1\" class=\"dataframe\">\n",
       "  <thead>\n",
       "    <tr style=\"text-align: right;\">\n",
       "      <th></th>\n",
       "      <th>Index</th>\n",
       "      <th>Accident_Severity</th>\n",
       "      <th>Accident Date</th>\n",
       "      <th>Latitude</th>\n",
       "      <th>Light_Conditions</th>\n",
       "      <th>District Area</th>\n",
       "      <th>Longitude</th>\n",
       "      <th>Number_of_Casualties</th>\n",
       "      <th>Number_of_Vehicles</th>\n",
       "      <th>Road_Surface_Conditions</th>\n",
       "      <th>Road_Type</th>\n",
       "      <th>Urban_or_Rural_Area</th>\n",
       "      <th>Weather_Conditions</th>\n",
       "      <th>Vehicle_Type</th>\n",
       "      <th>Year</th>\n",
       "      <th>Month</th>\n",
       "      <th>Day</th>\n",
       "      <th>DayOfWeek</th>\n",
       "    </tr>\n",
       "  </thead>\n",
       "  <tbody>\n",
       "    <tr>\n",
       "      <th>0</th>\n",
       "      <td>200701BS64157</td>\n",
       "      <td>Serious</td>\n",
       "      <td>2019-06-05</td>\n",
       "      <td>51.506187</td>\n",
       "      <td>Darkness - lights lit</td>\n",
       "      <td>Kensington and Chelsea</td>\n",
       "      <td>-0.209082</td>\n",
       "      <td>1</td>\n",
       "      <td>2</td>\n",
       "      <td>Dry</td>\n",
       "      <td>Single carriageway</td>\n",
       "      <td>Urban</td>\n",
       "      <td>Fine no high winds</td>\n",
       "      <td>Car</td>\n",
       "      <td>2019</td>\n",
       "      <td>6</td>\n",
       "      <td>5</td>\n",
       "      <td>2</td>\n",
       "    </tr>\n",
       "    <tr>\n",
       "      <th>1</th>\n",
       "      <td>200701BS65737</td>\n",
       "      <td>Serious</td>\n",
       "      <td>2019-07-02</td>\n",
       "      <td>51.495029</td>\n",
       "      <td>Daylight</td>\n",
       "      <td>Kensington and Chelsea</td>\n",
       "      <td>-0.173647</td>\n",
       "      <td>1</td>\n",
       "      <td>2</td>\n",
       "      <td>Wet or damp</td>\n",
       "      <td>Single carriageway</td>\n",
       "      <td>Urban</td>\n",
       "      <td>Raining no high winds</td>\n",
       "      <td>Car</td>\n",
       "      <td>2019</td>\n",
       "      <td>7</td>\n",
       "      <td>2</td>\n",
       "      <td>1</td>\n",
       "    </tr>\n",
       "    <tr>\n",
       "      <th>2</th>\n",
       "      <td>200701BS66127</td>\n",
       "      <td>Serious</td>\n",
       "      <td>2019-08-26</td>\n",
       "      <td>51.517715</td>\n",
       "      <td>Darkness - lighting unknown</td>\n",
       "      <td>Kensington and Chelsea</td>\n",
       "      <td>-0.210215</td>\n",
       "      <td>1</td>\n",
       "      <td>3</td>\n",
       "      <td>Dry</td>\n",
       "      <td>Single carriageway</td>\n",
       "      <td>Urban</td>\n",
       "      <td>Fine no high winds</td>\n",
       "      <td>Taxi/Private hire car</td>\n",
       "      <td>2019</td>\n",
       "      <td>8</td>\n",
       "      <td>26</td>\n",
       "      <td>0</td>\n",
       "    </tr>\n",
       "    <tr>\n",
       "      <th>3</th>\n",
       "      <td>200701BS66128</td>\n",
       "      <td>Serious</td>\n",
       "      <td>2019-08-16</td>\n",
       "      <td>51.495478</td>\n",
       "      <td>Daylight</td>\n",
       "      <td>Kensington and Chelsea</td>\n",
       "      <td>-0.202731</td>\n",
       "      <td>1</td>\n",
       "      <td>4</td>\n",
       "      <td>Dry</td>\n",
       "      <td>Single carriageway</td>\n",
       "      <td>Urban</td>\n",
       "      <td>Fine no high winds</td>\n",
       "      <td>Bus or coach (17 or more pass seats)</td>\n",
       "      <td>2019</td>\n",
       "      <td>8</td>\n",
       "      <td>16</td>\n",
       "      <td>4</td>\n",
       "    </tr>\n",
       "    <tr>\n",
       "      <th>4</th>\n",
       "      <td>200701BS66837</td>\n",
       "      <td>Slight</td>\n",
       "      <td>2019-09-03</td>\n",
       "      <td>51.488576</td>\n",
       "      <td>Darkness - lights lit</td>\n",
       "      <td>Kensington and Chelsea</td>\n",
       "      <td>-0.192487</td>\n",
       "      <td>1</td>\n",
       "      <td>2</td>\n",
       "      <td>Dry</td>\n",
       "      <td>Single carriageway</td>\n",
       "      <td>Urban</td>\n",
       "      <td>Fine no high winds</td>\n",
       "      <td>Other vehicle</td>\n",
       "      <td>2019</td>\n",
       "      <td>9</td>\n",
       "      <td>3</td>\n",
       "      <td>1</td>\n",
       "    </tr>\n",
       "    <tr>\n",
       "      <th>...</th>\n",
       "      <td>...</td>\n",
       "      <td>...</td>\n",
       "      <td>...</td>\n",
       "      <td>...</td>\n",
       "      <td>...</td>\n",
       "      <td>...</td>\n",
       "      <td>...</td>\n",
       "      <td>...</td>\n",
       "      <td>...</td>\n",
       "      <td>...</td>\n",
       "      <td>...</td>\n",
       "      <td>...</td>\n",
       "      <td>...</td>\n",
       "      <td>...</td>\n",
       "      <td>...</td>\n",
       "      <td>...</td>\n",
       "      <td>...</td>\n",
       "      <td>...</td>\n",
       "    </tr>\n",
       "    <tr>\n",
       "      <th>660674</th>\n",
       "      <td>201091NM01760</td>\n",
       "      <td>Slight</td>\n",
       "      <td>2022-02-18</td>\n",
       "      <td>57.374005</td>\n",
       "      <td>Daylight</td>\n",
       "      <td>Highland</td>\n",
       "      <td>-3.467828</td>\n",
       "      <td>2</td>\n",
       "      <td>1</td>\n",
       "      <td>Dry</td>\n",
       "      <td>Single carriageway</td>\n",
       "      <td>Rural</td>\n",
       "      <td>Fine no high winds</td>\n",
       "      <td>Car</td>\n",
       "      <td>2022</td>\n",
       "      <td>2</td>\n",
       "      <td>18</td>\n",
       "      <td>4</td>\n",
       "    </tr>\n",
       "    <tr>\n",
       "      <th>660675</th>\n",
       "      <td>201091NM01881</td>\n",
       "      <td>Slight</td>\n",
       "      <td>2022-02-21</td>\n",
       "      <td>57.232273</td>\n",
       "      <td>Darkness - no lighting</td>\n",
       "      <td>Highland</td>\n",
       "      <td>-3.809281</td>\n",
       "      <td>1</td>\n",
       "      <td>1</td>\n",
       "      <td>Frost or ice</td>\n",
       "      <td>Single carriageway</td>\n",
       "      <td>Rural</td>\n",
       "      <td>Fine no high winds</td>\n",
       "      <td>Car</td>\n",
       "      <td>2022</td>\n",
       "      <td>2</td>\n",
       "      <td>21</td>\n",
       "      <td>0</td>\n",
       "    </tr>\n",
       "    <tr>\n",
       "      <th>660676</th>\n",
       "      <td>201091NM01935</td>\n",
       "      <td>Slight</td>\n",
       "      <td>2022-02-23</td>\n",
       "      <td>57.585044</td>\n",
       "      <td>Daylight</td>\n",
       "      <td>Highland</td>\n",
       "      <td>-3.862727</td>\n",
       "      <td>1</td>\n",
       "      <td>3</td>\n",
       "      <td>Frost or ice</td>\n",
       "      <td>Single carriageway</td>\n",
       "      <td>Rural</td>\n",
       "      <td>Fine no high winds</td>\n",
       "      <td>Car</td>\n",
       "      <td>2022</td>\n",
       "      <td>2</td>\n",
       "      <td>23</td>\n",
       "      <td>2</td>\n",
       "    </tr>\n",
       "    <tr>\n",
       "      <th>660677</th>\n",
       "      <td>201091NM01964</td>\n",
       "      <td>Serious</td>\n",
       "      <td>2022-02-23</td>\n",
       "      <td>57.214898</td>\n",
       "      <td>Darkness - no lighting</td>\n",
       "      <td>Highland</td>\n",
       "      <td>-3.823997</td>\n",
       "      <td>1</td>\n",
       "      <td>2</td>\n",
       "      <td>Wet or damp</td>\n",
       "      <td>Single carriageway</td>\n",
       "      <td>Rural</td>\n",
       "      <td>Fine no high winds</td>\n",
       "      <td>Motorcycle over 500cc</td>\n",
       "      <td>2022</td>\n",
       "      <td>2</td>\n",
       "      <td>23</td>\n",
       "      <td>2</td>\n",
       "    </tr>\n",
       "    <tr>\n",
       "      <th>660678</th>\n",
       "      <td>201091NM02142</td>\n",
       "      <td>Serious</td>\n",
       "      <td>2022-02-28</td>\n",
       "      <td>57.575210</td>\n",
       "      <td>Daylight</td>\n",
       "      <td>Highland</td>\n",
       "      <td>-3.895673</td>\n",
       "      <td>1</td>\n",
       "      <td>1</td>\n",
       "      <td>Wet or damp</td>\n",
       "      <td>Dual carriageway</td>\n",
       "      <td>Rural</td>\n",
       "      <td>Snowing no high winds</td>\n",
       "      <td>Car</td>\n",
       "      <td>2022</td>\n",
       "      <td>2</td>\n",
       "      <td>28</td>\n",
       "      <td>0</td>\n",
       "    </tr>\n",
       "  </tbody>\n",
       "</table>\n",
       "<p>660679 rows × 18 columns</p>\n",
       "</div>"
      ],
      "text/plain": [
       "                Index Accident_Severity Accident Date   Latitude  \\\n",
       "0       200701BS64157           Serious    2019-06-05  51.506187   \n",
       "1       200701BS65737           Serious    2019-07-02  51.495029   \n",
       "2       200701BS66127           Serious    2019-08-26  51.517715   \n",
       "3       200701BS66128           Serious    2019-08-16  51.495478   \n",
       "4       200701BS66837            Slight    2019-09-03  51.488576   \n",
       "...               ...               ...           ...        ...   \n",
       "660674  201091NM01760            Slight    2022-02-18  57.374005   \n",
       "660675  201091NM01881            Slight    2022-02-21  57.232273   \n",
       "660676  201091NM01935            Slight    2022-02-23  57.585044   \n",
       "660677  201091NM01964           Serious    2022-02-23  57.214898   \n",
       "660678  201091NM02142           Serious    2022-02-28  57.575210   \n",
       "\n",
       "                   Light_Conditions           District Area Longitude  \\\n",
       "0             Darkness - lights lit  Kensington and Chelsea -0.209082   \n",
       "1                          Daylight  Kensington and Chelsea -0.173647   \n",
       "2       Darkness - lighting unknown  Kensington and Chelsea -0.210215   \n",
       "3                          Daylight  Kensington and Chelsea -0.202731   \n",
       "4             Darkness - lights lit  Kensington and Chelsea -0.192487   \n",
       "...                             ...                     ...       ...   \n",
       "660674                     Daylight                Highland -3.467828   \n",
       "660675       Darkness - no lighting                Highland -3.809281   \n",
       "660676                     Daylight                Highland -3.862727   \n",
       "660677       Darkness - no lighting                Highland -3.823997   \n",
       "660678                     Daylight                Highland -3.895673   \n",
       "\n",
       "        Number_of_Casualties  Number_of_Vehicles Road_Surface_Conditions  \\\n",
       "0                          1                   2                     Dry   \n",
       "1                          1                   2             Wet or damp   \n",
       "2                          1                   3                     Dry   \n",
       "3                          1                   4                     Dry   \n",
       "4                          1                   2                     Dry   \n",
       "...                      ...                 ...                     ...   \n",
       "660674                     2                   1                     Dry   \n",
       "660675                     1                   1            Frost or ice   \n",
       "660676                     1                   3            Frost or ice   \n",
       "660677                     1                   2             Wet or damp   \n",
       "660678                     1                   1             Wet or damp   \n",
       "\n",
       "                 Road_Type Urban_or_Rural_Area     Weather_Conditions  \\\n",
       "0       Single carriageway               Urban     Fine no high winds   \n",
       "1       Single carriageway               Urban  Raining no high winds   \n",
       "2       Single carriageway               Urban     Fine no high winds   \n",
       "3       Single carriageway               Urban     Fine no high winds   \n",
       "4       Single carriageway               Urban     Fine no high winds   \n",
       "...                    ...                 ...                    ...   \n",
       "660674  Single carriageway               Rural     Fine no high winds   \n",
       "660675  Single carriageway               Rural     Fine no high winds   \n",
       "660676  Single carriageway               Rural     Fine no high winds   \n",
       "660677  Single carriageway               Rural     Fine no high winds   \n",
       "660678    Dual carriageway               Rural  Snowing no high winds   \n",
       "\n",
       "                                Vehicle_Type  Year  Month  Day  DayOfWeek  \n",
       "0                                        Car  2019      6    5          2  \n",
       "1                                        Car  2019      7    2          1  \n",
       "2                      Taxi/Private hire car  2019      8   26          0  \n",
       "3       Bus or coach (17 or more pass seats)  2019      8   16          4  \n",
       "4                              Other vehicle  2019      9    3          1  \n",
       "...                                      ...   ...    ...  ...        ...  \n",
       "660674                                   Car  2022      2   18          4  \n",
       "660675                                   Car  2022      2   21          0  \n",
       "660676                                   Car  2022      2   23          2  \n",
       "660677                 Motorcycle over 500cc  2022      2   23          2  \n",
       "660678                                   Car  2022      2   28          0  \n",
       "\n",
       "[660679 rows x 18 columns]"
      ]
     },
     "execution_count": 17,
     "metadata": {},
     "output_type": "execute_result"
    }
   ],
   "source": [
    "accident"
   ]
  },
  {
   "cell_type": "markdown",
   "id": "38f1cd06-9dee-4f43-b427-81424f74ed3e",
   "metadata": {
    "jp-MarkdownHeadingCollapsed": true
   },
   "source": [
    "<h1>UNIVARIATE</h1>"
   ]
  },
  {
   "cell_type": "markdown",
   "id": "e4ee7368-e084-4de6-9848-b6e2571fa2e1",
   "metadata": {
    "jp-MarkdownHeadingCollapsed": true
   },
   "source": [
    "<h1>1. Average Number of Vehicles Involved in Accidents</h1>"
   ]
  },
  {
   "cell_type": "code",
   "execution_count": 18,
   "id": "345302a3-f46f-4f52-891a-fe6da108fd28",
   "metadata": {},
   "outputs": [
    {
     "data": {
      "text/plain": [
       "np.float64(183.0)"
      ]
     },
     "execution_count": 18,
     "metadata": {},
     "output_type": "execute_result"
    }
   ],
   "source": [
    "np.round(accident['Number_of_Vehicles'].mean()*100)"
   ]
  },
  {
   "cell_type": "markdown",
   "id": "c79b861b-1943-4914-bfb4-6ca124be30c4",
   "metadata": {},
   "source": [
    "<h4>INSIGHT: In average 183.0 is the number of vehicles involved in accidents</h4>"
   ]
  },
  {
   "cell_type": "markdown",
   "id": "4ae2ba67-6a06-4a20-bef8-9dc1e7f32137",
   "metadata": {
    "jp-MarkdownHeadingCollapsed": true
   },
   "source": [
    "<h1>2. Most common weather condition during accidents</h1>"
   ]
  },
  {
   "cell_type": "code",
   "execution_count": 19,
   "id": "2efc58da-8d39-47cd-8852-d0001687029f",
   "metadata": {},
   "outputs": [
    {
     "data": {
      "text/plain": [
       "Weather_Conditions\n",
       "Fine no high winds       535013\n",
       "Raining no high winds     79696\n",
       "Other                     17150\n",
       "Raining + high winds       9615\n",
       "Fine + high winds          8554\n",
       "Snowing no high winds      6238\n",
       "Fog or mist                3528\n",
       "Snowing + high winds        885\n",
       "Name: count, dtype: int64"
      ]
     },
     "execution_count": 19,
     "metadata": {},
     "output_type": "execute_result"
    }
   ],
   "source": [
    "accident['Weather_Conditions'].value_counts()"
   ]
  },
  {
   "cell_type": "markdown",
   "id": "ba2adf5e-db7a-4e91-8aee-434bef3b6d2d",
   "metadata": {},
   "source": [
    "<h4>INSIGHT: The most common weather condition during accidents is Fine on high winds.</h4>"
   ]
  },
  {
   "cell_type": "markdown",
   "id": "b6efb3e6-03eb-4542-a302-b36b54bdae60",
   "metadata": {
    "jp-MarkdownHeadingCollapsed": true
   },
   "source": [
    "<h1>3. Urban vs. Rural area accident percentage</h1>"
   ]
  },
  {
   "cell_type": "code",
   "execution_count": 20,
   "id": "f1d4a89a-6bb4-44cf-8c80-9865b35d141d",
   "metadata": {},
   "outputs": [
    {
     "data": {
      "text/plain": [
       "Urban_or_Rural_Area\n",
       "Urban          42167800\n",
       "Rural          23899000\n",
       "Unallocated        1100\n",
       "Name: count, dtype: int64"
      ]
     },
     "execution_count": 20,
     "metadata": {},
     "output_type": "execute_result"
    }
   ],
   "source": [
    "accident['Urban_or_Rural_Area'].value_counts() * 100"
   ]
  },
  {
   "cell_type": "markdown",
   "id": "138be47c-9a0e-4d8c-81a0-0201ae1f3847",
   "metadata": {},
   "source": [
    "<h4>INSIGHT: It shows that urban is an accident prone area.</h4>"
   ]
  },
  {
   "cell_type": "markdown",
   "id": "b291291c-1c23-4895-9ea3-3dc6bcf3134f",
   "metadata": {
    "jp-MarkdownHeadingCollapsed": true
   },
   "source": [
    "<h1>4. Most accidents occur during light condition </h1>"
   ]
  },
  {
   "cell_type": "code",
   "execution_count": 21,
   "id": "9b241e6b-ede1-4076-9318-c137bcfb520c",
   "metadata": {},
   "outputs": [
    {
     "data": {
      "text/plain": [
       "'Daylight'"
      ]
     },
     "execution_count": 21,
     "metadata": {},
     "output_type": "execute_result"
    }
   ],
   "source": [
    "accident['Light_Conditions'].mode()[0]"
   ]
  },
  {
   "cell_type": "markdown",
   "id": "631145e0-80c5-4909-b6c0-6df4fa689bad",
   "metadata": {},
   "source": [
    "<h4>INSIGHT: In conclusion most accidents occur in Daylight under light condition.</h4>"
   ]
  },
  {
   "cell_type": "markdown",
   "id": "3d456cad-5722-4bdd-81ca-081ddcd8e76d",
   "metadata": {
    "jp-MarkdownHeadingCollapsed": true
   },
   "source": [
    "<h1>5. Total number of accident in 2019</h1>"
   ]
  },
  {
   "cell_type": "code",
   "execution_count": 22,
   "id": "ec0f7a7d-2d31-474d-a2b4-4cb393c13f03",
   "metadata": {},
   "outputs": [],
   "source": [
    "df_2019 = accident[accident['Year'] == 2019]"
   ]
  },
  {
   "cell_type": "code",
   "execution_count": 23,
   "id": "525466c5-fa24-4878-a1f4-d07888cc0219",
   "metadata": {},
   "outputs": [
    {
     "name": "stdout",
     "output_type": "stream",
     "text": [
      "INSIGHT 5: The total number of accident in 2019 is 182115\n"
     ]
    }
   ],
   "source": [
    "print(f\"INSIGHT 5: The total number of accident in 2019 is {df_2019['Light_Conditions'].value_counts().sum()}\")"
   ]
  },
  {
   "cell_type": "markdown",
   "id": "75a33892-6f9a-4b52-bd5c-23cd154c6af3",
   "metadata": {
    "jp-MarkdownHeadingCollapsed": true
   },
   "source": [
    "<h1>6. Most Common Accident Severity</h1>"
   ]
  },
  {
   "cell_type": "code",
   "execution_count": 24,
   "id": "920e4d14-637a-435b-bc8f-ed34eaa76d8b",
   "metadata": {},
   "outputs": [
    {
     "data": {
      "text/plain": [
       "'Slight'"
      ]
     },
     "execution_count": 24,
     "metadata": {},
     "output_type": "execute_result"
    }
   ],
   "source": [
    "accident['Accident_Severity'].mode()[0]"
   ]
  },
  {
   "cell_type": "markdown",
   "id": "a0ddd7ee-62b5-4228-87c5-2a115daaae7b",
   "metadata": {
    "jp-MarkdownHeadingCollapsed": true
   },
   "source": [
    "<h4>INSIGHT: Slight is the most common accident severity in the dataset.</h4>"
   ]
  },
  {
   "cell_type": "markdown",
   "id": "a67e5dd9-f6ba-42b0-9f8e-3d8443469130",
   "metadata": {},
   "source": [
    "<h1>BIVARIATE</h1>"
   ]
  },
  {
   "cell_type": "markdown",
   "id": "bb19f6f9-4cb5-4396-b5c8-111402ab0f37",
   "metadata": {
    "jp-MarkdownHeadingCollapsed": true
   },
   "source": [
    "<h1>7. The number of accidents by Light Conditions (2019).</h1>"
   ]
  },
  {
   "cell_type": "code",
   "execution_count": 25,
   "id": "9d03a7a4-ebf3-4841-948b-58232b6c83ce",
   "metadata": {},
   "outputs": [],
   "source": [
    "light_accidents = df_2019.groupby('Light_Conditions').size()"
   ]
  },
  {
   "cell_type": "code",
   "execution_count": 26,
   "id": "db5a94f2-e6a7-40b5-8f05-b845b9f73609",
   "metadata": {},
   "outputs": [
    {
     "data": {
      "text/plain": [
       "Light_Conditions\n",
       "Darkness - lighting unknown      1768\n",
       "Darkness - lights lit           35769\n",
       "Darkness - lights unlit           694\n",
       "Darkness - no lighting          10842\n",
       "Daylight                       133042\n",
       "dtype: int64"
      ]
     },
     "execution_count": 26,
     "metadata": {},
     "output_type": "execute_result"
    }
   ],
   "source": [
    "light_accidents"
   ]
  },
  {
   "cell_type": "markdown",
   "id": "cf982c72-7efa-47b7-a74b-42266fd9114a",
   "metadata": {},
   "source": [
    "<h4>INSIGHT: About 27% of accidents happened during 2019 due to light conditions. </h4>"
   ]
  },
  {
   "cell_type": "markdown",
   "id": "072edfd4-f53e-4168-b6ba-9ae084a8955d",
   "metadata": {
    "jp-MarkdownHeadingCollapsed": true
   },
   "source": [
    "<h1>8. The number of accidents by Road Type (2019).</h1>"
   ]
  },
  {
   "cell_type": "code",
   "execution_count": 27,
   "id": "1b197121-60b5-4569-9f2f-7a1b1de5d7f3",
   "metadata": {},
   "outputs": [],
   "source": [
    "road_accidents = df_2019.groupby('Road_Type').size()"
   ]
  },
  {
   "cell_type": "code",
   "execution_count": 28,
   "id": "1125af5f-b248-4355-8414-67adbb2293fd",
   "metadata": {},
   "outputs": [
    {
     "data": {
      "text/plain": [
       "Road_Type\n",
       "Dual carriageway       28162\n",
       "One way street          3813\n",
       "Roundabout             11698\n",
       "Single carriageway    136468\n",
       "Slip road               1974\n",
       "dtype: int64"
      ]
     },
     "execution_count": 28,
     "metadata": {},
     "output_type": "execute_result"
    }
   ],
   "source": [
    "road_accidents"
   ]
  },
  {
   "cell_type": "markdown",
   "id": "5e06861d-a722-4d3e-a3c3-0ee546bb4fda",
   "metadata": {},
   "source": [
    "<h4>INSIGHT: About 27% of accidents happened during 2019 due to road type. </h4>"
   ]
  },
  {
   "cell_type": "markdown",
   "id": "2581162b-9d51-42b0-8c59-b74ddd79005b",
   "metadata": {
    "jp-MarkdownHeadingCollapsed": true
   },
   "source": [
    "<h1>9. Correlation between number of vehicles involved and number of casualties</h1>"
   ]
  },
  {
   "cell_type": "code",
   "execution_count": 29,
   "id": "8d6cd811-fa06-4de3-8988-d6d2df35aca3",
   "metadata": {},
   "outputs": [],
   "source": [
    "vehicles_casualties = accident[['Number_of_Vehicles', 'Number_of_Casualties']].corr().iloc[0, 1]"
   ]
  },
  {
   "cell_type": "code",
   "execution_count": 30,
   "id": "fe7ebeaf-0534-4220-be9e-fd7d4d1396e7",
   "metadata": {},
   "outputs": [
    {
     "data": {
      "text/plain": [
       "np.float64(0.22888886126926722)"
      ]
     },
     "execution_count": 30,
     "metadata": {},
     "output_type": "execute_result"
    }
   ],
   "source": [
    "vehicles_casualties"
   ]
  },
  {
   "cell_type": "markdown",
   "id": "71cb38e2-a878-407d-88e9-da552fd73f23",
   "metadata": {},
   "source": [
    "<h4>INSIGHT: There is no correlation between number of vehicles and number of casualties </h4>"
   ]
  },
  {
   "cell_type": "markdown",
   "id": "2d3f3959-b277-4e5f-9443-ba1c4fe9dd73",
   "metadata": {
    "jp-MarkdownHeadingCollapsed": true
   },
   "source": [
    "<h1>10. Number of accidents by urban/rural area and light conditions</h1>"
   ]
  },
  {
   "cell_type": "code",
   "execution_count": 31,
   "id": "ddd144d5-e46a-418a-91bc-ad6da42752bb",
   "metadata": {},
   "outputs": [],
   "source": [
    "urbanrural_light = accident.groupby(['Urban_or_Rural_Area', 'Light_Conditions']).size().unstack(fill_value=0)"
   ]
  },
  {
   "cell_type": "code",
   "execution_count": 32,
   "id": "f5ff13d0-86ad-4214-9b1a-14983005ed8f",
   "metadata": {},
   "outputs": [
    {
     "data": {
      "text/html": [
       "<div>\n",
       "<style scoped>\n",
       "    .dataframe tbody tr th:only-of-type {\n",
       "        vertical-align: middle;\n",
       "    }\n",
       "\n",
       "    .dataframe tbody tr th {\n",
       "        vertical-align: top;\n",
       "    }\n",
       "\n",
       "    .dataframe thead th {\n",
       "        text-align: right;\n",
       "    }\n",
       "</style>\n",
       "<table border=\"1\" class=\"dataframe\">\n",
       "  <thead>\n",
       "    <tr style=\"text-align: right;\">\n",
       "      <th>Light_Conditions</th>\n",
       "      <th>Darkness - lighting unknown</th>\n",
       "      <th>Darkness - lights lit</th>\n",
       "      <th>Darkness - lights unlit</th>\n",
       "      <th>Darkness - no lighting</th>\n",
       "      <th>Daylight</th>\n",
       "    </tr>\n",
       "    <tr>\n",
       "      <th>Urban_or_Rural_Area</th>\n",
       "      <th></th>\n",
       "      <th></th>\n",
       "      <th></th>\n",
       "      <th></th>\n",
       "      <th></th>\n",
       "    </tr>\n",
       "  </thead>\n",
       "  <tbody>\n",
       "    <tr>\n",
       "      <th>Rural</th>\n",
       "      <td>2467</td>\n",
       "      <td>24695</td>\n",
       "      <td>961</td>\n",
       "      <td>35517</td>\n",
       "      <td>175350</td>\n",
       "    </tr>\n",
       "    <tr>\n",
       "      <th>Unallocated</th>\n",
       "      <td>0</td>\n",
       "      <td>2</td>\n",
       "      <td>0</td>\n",
       "      <td>0</td>\n",
       "      <td>9</td>\n",
       "    </tr>\n",
       "    <tr>\n",
       "      <th>Urban</th>\n",
       "      <td>4017</td>\n",
       "      <td>104638</td>\n",
       "      <td>1582</td>\n",
       "      <td>1920</td>\n",
       "      <td>309521</td>\n",
       "    </tr>\n",
       "  </tbody>\n",
       "</table>\n",
       "</div>"
      ],
      "text/plain": [
       "Light_Conditions     Darkness - lighting unknown  Darkness - lights lit  \\\n",
       "Urban_or_Rural_Area                                                       \n",
       "Rural                                       2467                  24695   \n",
       "Unallocated                                    0                      2   \n",
       "Urban                                       4017                 104638   \n",
       "\n",
       "Light_Conditions     Darkness - lights unlit  Darkness - no lighting  Daylight  \n",
       "Urban_or_Rural_Area                                                             \n",
       "Rural                                    961                   35517    175350  \n",
       "Unallocated                                0                       0         9  \n",
       "Urban                                   1582                    1920    309521  "
      ]
     },
     "execution_count": 32,
     "metadata": {},
     "output_type": "execute_result"
    }
   ],
   "source": [
    "urbanrural_light"
   ]
  },
  {
   "cell_type": "markdown",
   "id": "89c46171-8f62-4e96-bbcf-2a822bf82965",
   "metadata": {
    "jp-MarkdownHeadingCollapsed": true
   },
   "source": [
    "<h4>INSIGHT: Most accidents in rural(73.37%), urban(73.40%) and some unallocated places happened during broad daylight.</h4>"
   ]
  },
  {
   "cell_type": "markdown",
   "id": "45e109ea-3146-46e4-b1a2-715773502704",
   "metadata": {
    "jp-MarkdownHeadingCollapsed": true
   },
   "source": [
    "<h1>11. Accident trends by day of the week (2019)</h1>"
   ]
  },
  {
   "cell_type": "code",
   "execution_count": 33,
   "id": "a3a290d2-8775-4772-bdc7-11a33b785c8f",
   "metadata": {},
   "outputs": [],
   "source": [
    "acc_day = df_2019.groupby(df_2019['Accident Date'].dt.day_name()).size()"
   ]
  },
  {
   "cell_type": "code",
   "execution_count": 34,
   "id": "a3cb7e57-ed34-4d84-8824-1790c0d450d1",
   "metadata": {},
   "outputs": [
    {
     "data": {
      "text/plain": [
       "Accident Date\n",
       "Friday       27303\n",
       "Monday       20386\n",
       "Saturday     29262\n",
       "Sunday       24686\n",
       "Thursday     27300\n",
       "Tuesday      26251\n",
       "Wednesday    26927\n",
       "dtype: int64"
      ]
     },
     "execution_count": 34,
     "metadata": {},
     "output_type": "execute_result"
    }
   ],
   "source": [
    "acc_day"
   ]
  },
  {
   "cell_type": "markdown",
   "id": "f2df1acf-2775-4604-9670-45fb151070fd",
   "metadata": {},
   "source": [
    "<h4>INSIGHT: Most accidents happened during saturdays(16.06%) in 2019. </h4>"
   ]
  },
  {
   "cell_type": "markdown",
   "id": "b62e66e7-5308-4f51-bc39-e952e1df6f15",
   "metadata": {
    "jp-MarkdownHeadingCollapsed": true
   },
   "source": [
    "<h1>12. Top 5 districts where accidents mostly happened.</h1>"
   ]
  },
  {
   "cell_type": "code",
   "execution_count": 35,
   "id": "98b390ab-a353-4a5e-bf53-847618c238b7",
   "metadata": {},
   "outputs": [],
   "source": [
    "district_casualties = accident.groupby('District Area')['Number_of_Casualties'].count().sort_values(ascending=False)"
   ]
  },
  {
   "cell_type": "code",
   "execution_count": 36,
   "id": "a49879cb-e693-4fc1-bfb0-f6d2681db6c8",
   "metadata": {},
   "outputs": [
    {
     "data": {
      "text/plain": [
       "District Area\n",
       "Birmingham            13491\n",
       "Leeds                  8898\n",
       "Manchester             6720\n",
       "Bradford               6212\n",
       "Sheffield              5710\n",
       "                      ...  \n",
       "Berwick-upon-Tweed      153\n",
       "Teesdale                142\n",
       "Shetland Islands        133\n",
       "Orkney Islands          117\n",
       "Clackmannanshire         91\n",
       "Name: Number_of_Casualties, Length: 422, dtype: int64"
      ]
     },
     "execution_count": 36,
     "metadata": {},
     "output_type": "execute_result"
    }
   ],
   "source": [
    "district_casualties"
   ]
  },
  {
   "cell_type": "markdown",
   "id": "aa83bc92-7b5b-4e0e-ae3f-7e0abd9f077f",
   "metadata": {},
   "source": [
    "<h4>INSIGHT: Among all districts given within the record Sheffield, Bradford, Manchester, Leeds, and Birmingham accounts the most number of accident records.</h4>"
   ]
  },
  {
   "cell_type": "markdown",
   "id": "4c5cef5f-8b05-4522-8e7b-fd48140ff933",
   "metadata": {
    "jp-MarkdownHeadingCollapsed": true
   },
   "source": [
    "<h1>13. Total casualties by vehicle type (2019)</h1>"
   ]
  },
  {
   "cell_type": "code",
   "execution_count": 37,
   "id": "b088a907-4fdc-4630-b2da-707c8c4945a2",
   "metadata": {},
   "outputs": [],
   "source": [
    "vehicle_casualties = df_2019.groupby('Vehicle_Type')['Number_of_Casualties'].sum().sort_values(ascending=False)"
   ]
  },
  {
   "cell_type": "code",
   "execution_count": 38,
   "id": "fe5233f9-ebb9-48f9-bf98-d83857d3be28",
   "metadata": {},
   "outputs": [
    {
     "data": {
      "text/plain": [
       "Vehicle_Type\n",
       "Car                                      177845\n",
       "Bus or coach (17 or more pass seats)      13989\n",
       "Van / Goods 3.5 tonnes mgw or under       12636\n",
       "Motorcycle over 500cc                     10505\n",
       "Goods 7.5 tonnes mgw and over              8551\n",
       "Motorcycle 125cc and under                 5770\n",
       "Taxi/Private hire car                      5685\n",
       "Motorcycle over 125cc and up to 500cc      3265\n",
       "Motorcycle 50cc and under                  2838\n",
       "Goods over 3.5t. and under 7.5t            2786\n",
       "Other vehicle                              2115\n",
       "Agricultural vehicle                        862\n",
       "Minibus (8 - 16 passenger seats)            840\n",
       "Pedal cycle                                  91\n",
       "Ridden horse                                  2\n",
       "Data missing or out of range                  0\n",
       "Name: Number_of_Casualties, dtype: int64"
      ]
     },
     "execution_count": 38,
     "metadata": {},
     "output_type": "execute_result"
    }
   ],
   "source": [
    "vehicle_casualties"
   ]
  },
  {
   "cell_type": "markdown",
   "id": "0db3618e-e208-45bb-9916-620635a93248",
   "metadata": {},
   "source": [
    "<h4>INSIGHT: Based from all the recorded vehicles involved in different vehicular accidents, Car(71.77%) accounts the most number of casualties based from the given record.</h4>"
   ]
  },
  {
   "cell_type": "markdown",
   "id": "ac329e28-eabc-4f20-b709-801182774d24",
   "metadata": {},
   "source": [
    "<h1>MULTIVARIATE</h1>"
   ]
  },
  {
   "cell_type": "markdown",
   "id": "284016ca-8f8f-48ba-aed0-3cd932e89ef5",
   "metadata": {
    "jp-MarkdownHeadingCollapsed": true
   },
   "source": [
    "<h1>14. Do Urban Areas Have More Multi-Vehicle Collisions in Bad Weather?.</h1>"
   ]
  },
  {
   "cell_type": "code",
   "execution_count": 39,
   "id": "0e929217-3004-484d-93af-da3ea54bc6a8",
   "metadata": {},
   "outputs": [
    {
     "data": {
      "text/plain": [
       "np.float64(1.811384516147392)"
      ]
     },
     "execution_count": 39,
     "metadata": {},
     "output_type": "execute_result"
    }
   ],
   "source": [
    "accident[(accident['Urban_or_Rural_Area'] == 'Urban') & (accident['Weather_Conditions'] != 'Clear')]['Number_of_Vehicles'].mean()"
   ]
  },
  {
   "cell_type": "markdown",
   "id": "e9885866-586f-4977-aba9-e9e45e7c152e",
   "metadata": {},
   "source": [
    "<h4> INSIGHT: Urban accidents in bad weather involve more vehicles on average, likely due to poor visibility </h4>"
   ]
  },
  {
   "cell_type": "markdown",
   "id": "2b8f4a40-7c3f-4d11-bce3-80132096ef72",
   "metadata": {
    "jp-MarkdownHeadingCollapsed": true
   },
   "source": [
    "<h1>15. Average casualties by severity and road type</h1>"
   ]
  },
  {
   "cell_type": "code",
   "execution_count": 40,
   "id": "ee6414d7-d220-42fa-a878-e049be97bc0b",
   "metadata": {},
   "outputs": [],
   "source": [
    "severity_road = accident.groupby(['Accident_Severity', 'Road_Type'])['Number_of_Casualties'].sum().sort_values(ascending=False)"
   ]
  },
  {
   "cell_type": "code",
   "execution_count": 41,
   "id": "71a20ea5-2d3c-4d14-8c22-aa49cce290ba",
   "metadata": {},
   "outputs": [
    {
     "data": {
      "text/plain": [
       "Accident_Severity  Road_Type         \n",
       "Slight             Single carriageway    552381\n",
       "                   Dual carriageway      124084\n",
       "Serious            Single carriageway    102606\n",
       "Slight             Roundabout             51217\n",
       "Serious            Dual carriageway       19195\n",
       "Slight             One way street         14023\n",
       "Fatal              Single carriageway     12423\n",
       "Slight             Slip road               8941\n",
       "Serious            Roundabout              4674\n",
       "Fatal              Dual carriageway        3598\n",
       "Serious            One way street          2028\n",
       "                   Slip road                936\n",
       "Fatal              Roundabout               194\n",
       "                   Slip road                147\n",
       "                   One way street           121\n",
       "Name: Number_of_Casualties, dtype: int64"
      ]
     },
     "execution_count": 41,
     "metadata": {},
     "output_type": "execute_result"
    }
   ],
   "source": [
    "severity_road"
   ]
  },
  {
   "cell_type": "markdown",
   "id": "237d3a9f-19f2-4806-b57e-d311645df55f",
   "metadata": {},
   "source": [
    "<h4>INSIGHT: Based from all the recorded road type involved in different vehicular accidents, Single carriageway(61.61%) accounts the most number of casualties, while Slight is the severity of the accident.</h4>"
   ]
  },
  {
   "cell_type": "markdown",
   "id": "24a95a6d-5039-4995-b03e-1f179ebce00e",
   "metadata": {
    "jp-MarkdownHeadingCollapsed": true
   },
   "source": [
    "<h1>16. Are Trucks and Buses Involved in More Severe Accidents on Highways?</h1>"
   ]
  },
  {
   "cell_type": "code",
   "execution_count": 42,
   "id": "b48197d5-0490-4f3b-9466-833c54ec85fc",
   "metadata": {},
   "outputs": [],
   "source": [
    "filtered_data = accident[(accident['Vehicle_Type'].str.contains('Truck|Bus', case=False, na=False)) & (accident['Road_Type'] == 'Highway')]['Accident_Severity']"
   ]
  },
  {
   "cell_type": "code",
   "execution_count": 43,
   "id": "d6403c0b-f0d2-4684-9a9b-c8d8e053bc5a",
   "metadata": {},
   "outputs": [
    {
     "data": {
      "text/plain": [
       "Series([], Name: Accident_Severity, dtype: category\n",
       "Categories (3, object): ['Fatal', 'Serious', 'Slight'])"
      ]
     },
     "execution_count": 43,
     "metadata": {},
     "output_type": "execute_result"
    }
   ],
   "source": [
    "filtered_data"
   ]
  },
  {
   "cell_type": "markdown",
   "id": "9d3d577a-65d3-4378-957b-05b482b67814",
   "metadata": {},
   "source": [
    "<h4>INSIGHT: based from the results almost fatal and serious accidents involved trucks. </h4>"
   ]
  },
  {
   "cell_type": "markdown",
   "id": "5ce98b11-f5df-4b9a-a5e5-c7dc9c075d9d",
   "metadata": {
    "jp-MarkdownHeadingCollapsed": true
   },
   "source": [
    "<h1>17. Casualty rates by road type and urban/rural area</h1>"
   ]
  },
  {
   "cell_type": "code",
   "execution_count": 44,
   "id": "6fa3dfc6-ad0a-4bbf-be50-6ddf254eba48",
   "metadata": {},
   "outputs": [],
   "source": [
    "road_urban = accident.groupby(['Road_Type', 'Urban_or_Rural_Area'])['Number_of_Casualties'].sum().sort_values(ascending=False)"
   ]
  },
  {
   "cell_type": "code",
   "execution_count": 45,
   "id": "be26702a-e9f3-47a8-a3b6-95e6c4d884a7",
   "metadata": {},
   "outputs": [
    {
     "data": {
      "text/plain": [
       "Road_Type           Urban_or_Rural_Area\n",
       "Single carriageway  Urban                  417765\n",
       "                    Rural                  249634\n",
       "Dual carriageway    Rural                   76017\n",
       "                    Urban                   70859\n",
       "Roundabout          Urban                   35973\n",
       "                    Rural                   20111\n",
       "One way street      Urban                   14712\n",
       "Slip road           Rural                    6293\n",
       "                    Urban                    3731\n",
       "One way street      Rural                    1460\n",
       "Single carriageway  Unallocated                11\n",
       "Roundabout          Unallocated                 1\n",
       "Dual carriageway    Unallocated                 1\n",
       "One way street      Unallocated                 0\n",
       "Slip road           Unallocated                 0\n",
       "Name: Number_of_Casualties, dtype: int64"
      ]
     },
     "execution_count": 45,
     "metadata": {},
     "output_type": "execute_result"
    }
   ],
   "source": [
    "road_urban"
   ]
  },
  {
   "cell_type": "markdown",
   "id": "c452180f-d92d-4eea-b3c7-b590afd1bccc",
   "metadata": {},
   "source": [
    "<h4>INSIGHT: Based from all the recorded road type involved in different vehicular accidents, Single carriageway(46.59%) accounts the most number of casualties from the urban area. </h4>"
   ]
  },
  {
   "cell_type": "markdown",
   "id": "58d2608b-047c-495e-b363-71cbb57de620",
   "metadata": {
    "jp-MarkdownHeadingCollapsed": true
   },
   "source": [
    "<h1>18. Average vehicles involved by road surface and accident severity</h1>"
   ]
  },
  {
   "cell_type": "code",
   "execution_count": 46,
   "id": "a476fdfb-f752-4335-b17a-87b3c11d9caf",
   "metadata": {},
   "outputs": [],
   "source": [
    "road_severity = accident.groupby(['Road_Surface_Conditions', 'Accident_Severity'])['Number_of_Vehicles'].sum().sort_values(ascending=False)"
   ]
  },
  {
   "cell_type": "code",
   "execution_count": 47,
   "id": "866b8f81-2b05-4d9e-b2b2-684ecf09a322",
   "metadata": {},
   "outputs": [
    {
     "data": {
      "text/plain": [
       "Road_Surface_Conditions  Accident_Severity\n",
       "Dry                      Slight               711482\n",
       "Wet or damp              Slight               297270\n",
       "Dry                      Serious              104128\n",
       "Wet or damp              Serious               39656\n",
       "Frost or ice             Slight                26907\n",
       "Dry                      Fatal                 10448\n",
       "Snow                     Slight                 9313\n",
       "Wet or damp              Fatal                  4593\n",
       "Frost or ice             Serious                3122\n",
       "Flood over 3cm. deep     Slight                 1366\n",
       "Snow                     Serious                 920\n",
       "Frost or ice             Fatal                   339\n",
       "Flood over 3cm. deep     Serious                 231\n",
       "Snow                     Fatal                    56\n",
       "Flood over 3cm. deep     Fatal                    41\n",
       "Name: Number_of_Vehicles, dtype: int64"
      ]
     },
     "execution_count": 47,
     "metadata": {},
     "output_type": "execute_result"
    }
   ],
   "source": [
    "road_severity"
   ]
  },
  {
   "cell_type": "markdown",
   "id": "f226ee39-f72d-4a62-8a88-94e2871a79f9",
   "metadata": {},
   "source": [
    "<h4>INSIGHT: The average vehicles involved by road surface conditions and accident severity, Dry surface and Slight severity accounts the most numer of casualty. </h4>"
   ]
  },
  {
   "cell_type": "markdown",
   "id": "f49f2097-9f0c-4455-b034-57164272a8c1",
   "metadata": {
    "jp-MarkdownHeadingCollapsed": true
   },
   "source": [
    "<h1>19. Casualties by day of week and light conditions (2019)</h1>"
   ]
  },
  {
   "cell_type": "code",
   "execution_count": 48,
   "id": "ffa5e1b5-31c0-451e-9218-60bfe5cad502",
   "metadata": {},
   "outputs": [],
   "source": [
    "day_light = df_2019.groupby([df_2019['Accident Date'].dt.day_name(), 'Light_Conditions'])['Number_of_Casualties'].sum().sort_values(ascending=False)"
   ]
  },
  {
   "cell_type": "code",
   "execution_count": 49,
   "id": "90e08241-cb60-4205-9363-beb9c705a0b3",
   "metadata": {},
   "outputs": [
    {
     "data": {
      "text/plain": [
       "Accident Date  Light_Conditions           \n",
       "Saturday       Daylight                       28078\n",
       "Thursday       Daylight                       27211\n",
       "Friday         Daylight                       26789\n",
       "Wednesday      Daylight                       26678\n",
       "Tuesday        Daylight                       26080\n",
       "Sunday         Daylight                       23765\n",
       "Monday         Daylight                       20001\n",
       "Sunday         Darkness - lights lit           8308\n",
       "Saturday       Darkness - lights lit           8247\n",
       "Monday         Darkness - lights lit           7219\n",
       "Tuesday        Darkness - lights lit           6529\n",
       "Friday         Darkness - lights lit           6435\n",
       "Thursday       Darkness - lights lit           6280\n",
       "Wednesday      Darkness - lights lit           6147\n",
       "Saturday       Darkness - no lighting          2766\n",
       "Sunday         Darkness - no lighting          2589\n",
       "Monday         Darkness - no lighting          2552\n",
       "Friday         Darkness - no lighting          2412\n",
       "Thursday       Darkness - no lighting          2197\n",
       "Wednesday      Darkness - no lighting          2185\n",
       "Tuesday        Darkness - no lighting          2074\n",
       "Saturday       Darkness - lighting unknown      382\n",
       "Sunday         Darkness - lighting unknown      353\n",
       "Monday         Darkness - lighting unknown      341\n",
       "Wednesday      Darkness - lighting unknown      315\n",
       "Friday         Darkness - lighting unknown      310\n",
       "Thursday       Darkness - lighting unknown      309\n",
       "Tuesday        Darkness - lighting unknown      296\n",
       "Saturday       Darkness - lights unlit          163\n",
       "Sunday         Darkness - lights unlit          149\n",
       "Tuesday        Darkness - lights unlit          138\n",
       "Friday         Darkness - lights unlit          134\n",
       "Thursday       Darkness - lights unlit          131\n",
       "Monday         Darkness - lights unlit          111\n",
       "Wednesday      Darkness - lights unlit          106\n",
       "Name: Number_of_Casualties, dtype: int64"
      ]
     },
     "execution_count": 49,
     "metadata": {},
     "output_type": "execute_result"
    }
   ],
   "source": [
    "day_light"
   ]
  },
  {
   "cell_type": "markdown",
   "id": "54c3d48f-0b8e-4fae-8b24-3d05c2c3e713",
   "metadata": {},
   "source": [
    "<h4>INSIGHT: Based from the recorded list most accident happened during saturday influenced by daylight conditions.  </h4>"
   ]
  },
  {
   "cell_type": "markdown",
   "id": "103dffce-151a-46cd-8e68-7c9730e10e8d",
   "metadata": {
    "jp-MarkdownHeadingCollapsed": true
   },
   "source": [
    "<h1>20. Correlation between vehicles, casualties, and road surface conditions</h1>"
   ]
  },
  {
   "cell_type": "code",
   "execution_count": 50,
   "id": "5ee1d24f-aca9-41d5-b5a1-d448d6925d4b",
   "metadata": {},
   "outputs": [],
   "source": [
    "vehicles_casualties = accident[['Number_of_Vehicles', 'Number_of_Casualties']].corr()"
   ]
  },
  {
   "cell_type": "code",
   "execution_count": 51,
   "id": "68aaa359-e076-4ecb-99d8-ed60f39c806b",
   "metadata": {},
   "outputs": [
    {
     "data": {
      "text/html": [
       "<div>\n",
       "<style scoped>\n",
       "    .dataframe tbody tr th:only-of-type {\n",
       "        vertical-align: middle;\n",
       "    }\n",
       "\n",
       "    .dataframe tbody tr th {\n",
       "        vertical-align: top;\n",
       "    }\n",
       "\n",
       "    .dataframe thead th {\n",
       "        text-align: right;\n",
       "    }\n",
       "</style>\n",
       "<table border=\"1\" class=\"dataframe\">\n",
       "  <thead>\n",
       "    <tr style=\"text-align: right;\">\n",
       "      <th></th>\n",
       "      <th>Number_of_Vehicles</th>\n",
       "      <th>Number_of_Casualties</th>\n",
       "    </tr>\n",
       "  </thead>\n",
       "  <tbody>\n",
       "    <tr>\n",
       "      <th>Number_of_Vehicles</th>\n",
       "      <td>1.000000</td>\n",
       "      <td>0.228889</td>\n",
       "    </tr>\n",
       "    <tr>\n",
       "      <th>Number_of_Casualties</th>\n",
       "      <td>0.228889</td>\n",
       "      <td>1.000000</td>\n",
       "    </tr>\n",
       "  </tbody>\n",
       "</table>\n",
       "</div>"
      ],
      "text/plain": [
       "                      Number_of_Vehicles  Number_of_Casualties\n",
       "Number_of_Vehicles              1.000000              0.228889\n",
       "Number_of_Casualties            0.228889              1.000000"
      ]
     },
     "execution_count": 51,
     "metadata": {},
     "output_type": "execute_result"
    }
   ],
   "source": [
    "vehicles_casualties"
   ]
  },
  {
   "cell_type": "markdown",
   "id": "047037fd-09e9-434c-8a22-d6a7f9e8416c",
   "metadata": {},
   "source": [
    "<h4>INSIGHT: There is a positive correlation between the number of the vehicles and the number of the casualties, suggesting that most of the accidents happen due to the increasing number of vehicles.</h4>"
   ]
  }
 ],
 "metadata": {
  "kernelspec": {
   "display_name": "Python 3 (ipykernel)",
   "language": "python",
   "name": "python3"
  },
  "language_info": {
   "codemirror_mode": {
    "name": "ipython",
    "version": 3
   },
   "file_extension": ".py",
   "mimetype": "text/x-python",
   "name": "python",
   "nbconvert_exporter": "python",
   "pygments_lexer": "ipython3",
   "version": "3.13.2"
  }
 },
 "nbformat": 4,
 "nbformat_minor": 5
}
